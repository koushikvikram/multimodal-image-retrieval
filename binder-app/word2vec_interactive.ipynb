{
  "cells": [
    {
      "cell_type": "markdown",
      "metadata": {
        "id": "5iFGBurEnK9I"
      },
      "source": [
        "# Visualize Closest Words in Word2Vec Embeddings"
      ]
    },
    {
      "cell_type": "code",
      "execution_count": 2,
      "metadata": {
        "colab": {
          "base_uri": "https://localhost:8080/"
        },
        "id": "xGCRux3QnU21",
        "outputId": "58762ae3-6d94-4ab4-ddea-81c169bacf09"
      },
      "outputs": [
        {
          "name": "stdout",
          "output_type": "stream",
          "text": [
            "Requirement already satisfied: voila in /usr/local/lib/python3.7/dist-packages (0.2.16)\n",
            "Requirement already satisfied: nbconvert<7,>=6.0.0 in /usr/local/lib/python3.7/dist-packages (from voila) (6.3.0)\n",
            "Requirement already satisfied: nbclient<0.6,>=0.4.0 in /usr/local/lib/python3.7/dist-packages (from voila) (0.5.8)\n",
            "Requirement already satisfied: jupyter-server<2.0.0,>=0.3.0 in /usr/local/lib/python3.7/dist-packages (from voila) (1.11.2)\n",
            "Requirement already satisfied: jupyter-client<7,>=6.1.3 in /usr/local/lib/python3.7/dist-packages (from voila) (6.1.12)\n",
            "Requirement already satisfied: python-dateutil>=2.1 in /usr/local/lib/python3.7/dist-packages (from jupyter-client<7,>=6.1.3->voila) (2.8.2)\n",
            "Requirement already satisfied: tornado>=4.1 in /usr/local/lib/python3.7/dist-packages (from jupyter-client<7,>=6.1.3->voila) (6.1)\n",
            "Requirement already satisfied: jupyter-core>=4.6.0 in /usr/local/lib/python3.7/dist-packages (from jupyter-client<7,>=6.1.3->voila) (4.9.1)\n",
            "Requirement already satisfied: traitlets in /usr/local/lib/python3.7/dist-packages (from jupyter-client<7,>=6.1.3->voila) (5.1.1)\n",
            "Requirement already satisfied: pyzmq>=13 in /usr/local/lib/python3.7/dist-packages (from jupyter-client<7,>=6.1.3->voila) (22.3.0)\n",
            "Requirement already satisfied: anyio<4,>=3.1.0 in /usr/local/lib/python3.7/dist-packages (from jupyter-server<2.0.0,>=0.3.0->voila) (3.3.4)\n",
            "Requirement already satisfied: prometheus-client in /usr/local/lib/python3.7/dist-packages (from jupyter-server<2.0.0,>=0.3.0->voila) (0.12.0)\n",
            "Requirement already satisfied: jinja2 in /usr/local/lib/python3.7/dist-packages (from jupyter-server<2.0.0,>=0.3.0->voila) (2.11.3)\n",
            "Requirement already satisfied: ipython-genutils in /usr/local/lib/python3.7/dist-packages (from jupyter-server<2.0.0,>=0.3.0->voila) (0.2.0)\n",
            "Requirement already satisfied: argon2-cffi in /usr/local/lib/python3.7/dist-packages (from jupyter-server<2.0.0,>=0.3.0->voila) (21.1.0)\n",
            "Requirement already satisfied: terminado>=0.8.3 in /usr/local/lib/python3.7/dist-packages (from jupyter-server<2.0.0,>=0.3.0->voila) (0.12.1)\n",
            "Requirement already satisfied: Send2Trash in /usr/local/lib/python3.7/dist-packages (from jupyter-server<2.0.0,>=0.3.0->voila) (1.8.0)\n",
            "Requirement already satisfied: websocket-client in /usr/local/lib/python3.7/dist-packages (from jupyter-server<2.0.0,>=0.3.0->voila) (1.2.1)\n",
            "Requirement already satisfied: nbformat in /usr/local/lib/python3.7/dist-packages (from jupyter-server<2.0.0,>=0.3.0->voila) (5.1.3)\n",
            "Requirement already satisfied: idna>=2.8 in /usr/local/lib/python3.7/dist-packages (from anyio<4,>=3.1.0->jupyter-server<2.0.0,>=0.3.0->voila) (2.10)\n",
            "Requirement already satisfied: typing-extensions in /usr/local/lib/python3.7/dist-packages (from anyio<4,>=3.1.0->jupyter-server<2.0.0,>=0.3.0->voila) (3.10.0.2)\n",
            "Requirement already satisfied: sniffio>=1.1 in /usr/local/lib/python3.7/dist-packages (from anyio<4,>=3.1.0->jupyter-server<2.0.0,>=0.3.0->voila) (1.2.0)\n",
            "Requirement already satisfied: nest-asyncio in /usr/local/lib/python3.7/dist-packages (from nbclient<0.6,>=0.4.0->voila) (1.5.1)\n",
            "Requirement already satisfied: defusedxml in /usr/local/lib/python3.7/dist-packages (from nbconvert<7,>=6.0.0->voila) (0.7.1)\n",
            "Requirement already satisfied: mistune<2,>=0.8.1 in /usr/local/lib/python3.7/dist-packages (from nbconvert<7,>=6.0.0->voila) (0.8.4)\n",
            "Requirement already satisfied: bleach in /usr/local/lib/python3.7/dist-packages (from nbconvert<7,>=6.0.0->voila) (4.1.0)\n",
            "Requirement already satisfied: testpath in /usr/local/lib/python3.7/dist-packages (from nbconvert<7,>=6.0.0->voila) (0.5.0)\n",
            "Requirement already satisfied: jupyterlab-pygments in /usr/local/lib/python3.7/dist-packages (from nbconvert<7,>=6.0.0->voila) (0.1.2)\n",
            "Requirement already satisfied: pandocfilters>=1.4.1 in /usr/local/lib/python3.7/dist-packages (from nbconvert<7,>=6.0.0->voila) (1.5.0)\n",
            "Requirement already satisfied: pygments>=2.4.1 in /usr/local/lib/python3.7/dist-packages (from nbconvert<7,>=6.0.0->voila) (2.6.1)\n",
            "Requirement already satisfied: entrypoints>=0.2.2 in /usr/local/lib/python3.7/dist-packages (from nbconvert<7,>=6.0.0->voila) (0.3)\n",
            "Requirement already satisfied: MarkupSafe>=0.23 in /usr/local/lib/python3.7/dist-packages (from jinja2->jupyter-server<2.0.0,>=0.3.0->voila) (2.0.1)\n",
            "Requirement already satisfied: jsonschema!=2.5.0,>=2.4 in /usr/local/lib/python3.7/dist-packages (from nbformat->jupyter-server<2.0.0,>=0.3.0->voila) (2.6.0)\n",
            "Requirement already satisfied: six>=1.5 in /usr/local/lib/python3.7/dist-packages (from python-dateutil>=2.1->jupyter-client<7,>=6.1.3->voila) (1.15.0)\n",
            "Requirement already satisfied: ptyprocess in /usr/local/lib/python3.7/dist-packages (from terminado>=0.8.3->jupyter-server<2.0.0,>=0.3.0->voila) (0.7.0)\n",
            "Requirement already satisfied: cffi>=1.0.0 in /usr/local/lib/python3.7/dist-packages (from argon2-cffi->jupyter-server<2.0.0,>=0.3.0->voila) (1.15.0)\n",
            "Requirement already satisfied: pycparser in /usr/local/lib/python3.7/dist-packages (from cffi>=1.0.0->argon2-cffi->jupyter-server<2.0.0,>=0.3.0->voila) (2.21)\n",
            "Requirement already satisfied: webencodings in /usr/local/lib/python3.7/dist-packages (from bleach->nbconvert<7,>=6.0.0->voila) (0.5.1)\n",
            "Requirement already satisfied: packaging in /usr/local/lib/python3.7/dist-packages (from bleach->nbconvert<7,>=6.0.0->voila) (21.2)\n",
            "Requirement already satisfied: pyparsing<3,>=2.0.2 in /usr/local/lib/python3.7/dist-packages (from packaging->bleach->nbconvert<7,>=6.0.0->voila) (2.4.7)\n",
            "Requirement already satisfied: pyngrok in /usr/local/lib/python3.7/dist-packages (5.1.0)\n",
            "Requirement already satisfied: PyYAML in /usr/local/lib/python3.7/dist-packages (from pyngrok) (3.13)\n"
          ]
        }
      ],
      "source": [
        "import numpy as np\n",
        "import pandas as pd\n",
        "import matplotlib.pyplot as plt\n",
        "\n",
        "%matplotlib inline\n",
        "\n",
        "import seaborn as sns\n",
        "sns.set_style(\"darkgrid\")\n",
        "\n",
        "from sklearn.decomposition import PCA\n",
        "from sklearn.manifold import TSNE\n",
        "\n",
        "from gensim.models import Word2Vec"
      ]
    },
    {
      "cell_type": "code",
      "execution_count": 3,
      "metadata": {
        "id": "E6re72Pgm8hk"
      },
      "outputs": [],
      "source": [
        "def plot_n_similar(word, n_similar):\n",
        "    \"\"\" Plot in seaborn the results from the t-SNE dimensionality reduction algorithm of the vectors of a query word\n",
        "    and its list of 30 most similar words. The 'word' is plotted in red.\n",
        "    The top 'n_similar' most similar words are plotted in blue and the rest in green.\n",
        "    \"\"\"\n",
        "    model = Word2Vec.load(\"word2vec.model\")\n",
        "    arrays = np.empty((0, model.wv.vector_size), dtype='f')\n",
        "    word_labels = [word]\n",
        "    color_list  = ['red']\n",
        "\n",
        "    # adds the vector of the query word\n",
        "    arrays = np.append(arrays, np.expand_dims(model.wv[word], axis=0), axis=0)\n",
        "\n",
        "    # gets list of most similar words\n",
        "    close_words = model.wv.most_similar([word], topn=n_similar)\n",
        "    \n",
        "    # adds the vector for each of the closest words to the array\n",
        "    for wrd_score in close_words:\n",
        "        wrd_vector = np.expand_dims(model.wv[wrd_score[0]], axis=0)\n",
        "        word_labels.append(wrd_score[0])\n",
        "        color_list.append('blue')\n",
        "        arrays = np.append(arrays, wrd_vector, axis=0)\n",
        "    \n",
        "    # generate a list of 'n' similar words\n",
        "    list_names = [t[0] for t in model.wv.most_similar(positive=[word], topn=30)][n_similar:]\n",
        "\n",
        "    # adds the vector for each of the words from list_names to the array\n",
        "    for wrd in list_names:\n",
        "        wrd_vector = np.expand_dims(model.wv[wrd], axis=0)\n",
        "        word_labels.append(wrd)\n",
        "        color_list.append('green')\n",
        "        arrays = np.append(arrays, wrd_vector, axis=0)\n",
        "        \n",
        "    # Reduces the dimensionality from 100 to 20 dimensions with PCA\n",
        "    reduc = PCA(n_components=20).fit_transform(arrays)\n",
        "    \n",
        "    # Finds t-SNE coordinates for 2 dimensions\n",
        "    np.set_printoptions(suppress=True)\n",
        "    \n",
        "    Y = TSNE(n_components=2, random_state=0, perplexity=15).fit_transform(reduc)\n",
        "    \n",
        "    # Sets everything up to plot\n",
        "    df = pd.DataFrame({'x': [x for x in Y[:, 0]],\n",
        "                       'y': [y for y in Y[:, 1]],\n",
        "                       'words': word_labels,\n",
        "                       'color': color_list})\n",
        "    \n",
        "    fig, _ = plt.subplots()\n",
        "    fig.set_size_inches(9, 9)\n",
        "    \n",
        "    # Basic plot\n",
        "    p1 = sns.regplot(data=df,\n",
        "                     x=\"x\",\n",
        "                     y=\"y\",\n",
        "                     fit_reg=False,\n",
        "                     marker=\"o\",\n",
        "                     scatter_kws={'s': 40,\n",
        "                                  'facecolors': df['color']\n",
        "                                 }\n",
        "                    )\n",
        "    \n",
        "    # Adds annotations one by one with a loop\n",
        "    for line in range(0, df.shape[0]):\n",
        "         p1.text(df[\"x\"][line],\n",
        "                 df['y'][line],\n",
        "                 '  ' + df[\"words\"][line].title(),\n",
        "                 horizontalalignment='left',\n",
        "                 verticalalignment='bottom', size='medium',\n",
        "                 color=df['color'][line],\n",
        "                 weight='normal'\n",
        "                ).set_size(15)\n",
        "\n",
        "    \n",
        "    plt.xlim(Y[:, 0].min()-50, Y[:, 0].max()+50)\n",
        "    plt.ylim(Y[:, 1].min()-50, Y[:, 1].max()+50)\n",
        "            \n",
        "    plt.title('t-SNE visualization for {}'.format(word.title()))"
      ]
    },
    {
      "cell_type": "code",
      "execution_count": 12,
      "metadata": {
        "colab": {
          "base_uri": "https://localhost:8080/",
          "height": 732,
          "referenced_widgets": [
            "736424a2b76441b59ba88eb249c4386b",
            "b22c0dd472a5405b814214d5e667e6c2",
            "3a4cb11b249b41bcb8ac19773341a6cf",
            "14f4b25904ee43b3b6287e42bbad326f",
            "b69c81ec5d6c46e7986ea858dead4992",
            "0969044bef9d4223bccae40dc76b241f",
            "ca47f5a745df4b7f877b63602ac0b3a6",
            "fb77367ec3264c5c8a73f137846ac729",
            "db57bf0c02d04f8faeb2a92a477cc07f",
            "4bc1a8fd214d4027a85f7e1a8976e7cb"
          ]
        },
        "id": "7TJYkgVyneFN",
        "outputId": "2cf8299d-b73d-4953-a529-7e62907230b2"
      },
      "outputs": [
        {
          "data": {
            "application/vnd.jupyter.widget-view+json": {
              "model_id": "736424a2b76441b59ba88eb249c4386b",
              "version_major": 2,
              "version_minor": 0
            },
            "text/plain": [
              "interactive(children=(Text(value='toronto', description='word'), IntSlider(value=5, description='# Closest Wor…"
            ]
          },
          "metadata": {},
          "output_type": "display_data"
        },
        {
          "data": {
            "text/plain": [
              "<function __main__.plot_n_similar>"
            ]
          },
          "execution_count": 12,
          "metadata": {},
          "output_type": "execute_result"
        }
      ],
      "source": [
        "# visually interact\n",
        "import ipywidgets as widgets\n",
        "\n",
        "n_similar = widgets.IntSlider(description=\"# Closest Words\", \n",
        "                              value=5, \n",
        "                              min=1, \n",
        "                              max=25,\n",
        "                              style={'description_width':'initial'})\n",
        "\n",
        "widgets.interact(plot_n_similar, \n",
        "                 word=\"toronto\", \n",
        "                 n_similar=n_similar)"
      ]
    },
    {
      "cell_type": "code",
      "execution_count": null,
      "metadata": {
        "id": "nHjXJBVMqEqN"
      },
      "outputs": [],
      "source": []
    }
  ],
  "metadata": {
    "colab": {
      "collapsed_sections": [],
      "name": "multimodal-image-retrieval-word2vec-interactive.ipynb",
      "provenance": []
    },
    "kernelspec": {
      "display_name": "Python 3",
      "name": "python3"
    },
    "language_info": {
      "name": "python"
    },
    "widgets": {
      "application/vnd.jupyter.widget-state+json": {
        "0969044bef9d4223bccae40dc76b241f": {
          "model_module": "@jupyter-widgets/controls",
          "model_module_version": "1.5.0",
          "model_name": "DescriptionStyleModel",
          "state": {
            "_model_module": "@jupyter-widgets/controls",
            "_model_module_version": "1.5.0",
            "_model_name": "DescriptionStyleModel",
            "_view_count": null,
            "_view_module": "@jupyter-widgets/base",
            "_view_module_version": "1.2.0",
            "_view_name": "StyleView",
            "description_width": ""
          }
        },
        "14f4b25904ee43b3b6287e42bbad326f": {
          "model_module": "@jupyter-widgets/controls",
          "model_module_version": "1.5.0",
          "model_name": "IntSliderModel",
          "state": {
            "_dom_classes": [],
            "_model_module": "@jupyter-widgets/controls",
            "_model_module_version": "1.5.0",
            "_model_name": "IntSliderModel",
            "_view_count": null,
            "_view_module": "@jupyter-widgets/controls",
            "_view_module_version": "1.5.0",
            "_view_name": "IntSliderView",
            "continuous_update": true,
            "description": "# Closest Words",
            "description_tooltip": null,
            "disabled": false,
            "layout": "IPY_MODEL_db57bf0c02d04f8faeb2a92a477cc07f",
            "max": 25,
            "min": 1,
            "orientation": "horizontal",
            "readout": true,
            "readout_format": "d",
            "step": 1,
            "style": "IPY_MODEL_fb77367ec3264c5c8a73f137846ac729",
            "value": 5
          }
        },
        "3a4cb11b249b41bcb8ac19773341a6cf": {
          "model_module": "@jupyter-widgets/controls",
          "model_module_version": "1.5.0",
          "model_name": "TextModel",
          "state": {
            "_dom_classes": [],
            "_model_module": "@jupyter-widgets/controls",
            "_model_module_version": "1.5.0",
            "_model_name": "TextModel",
            "_view_count": null,
            "_view_module": "@jupyter-widgets/controls",
            "_view_module_version": "1.5.0",
            "_view_name": "TextView",
            "continuous_update": true,
            "description": "word",
            "description_tooltip": null,
            "disabled": false,
            "layout": "IPY_MODEL_ca47f5a745df4b7f877b63602ac0b3a6",
            "placeholder": "​",
            "style": "IPY_MODEL_0969044bef9d4223bccae40dc76b241f",
            "value": "toronto"
          }
        },
        "4bc1a8fd214d4027a85f7e1a8976e7cb": {
          "model_module": "@jupyter-widgets/base",
          "model_module_version": "1.2.0",
          "model_name": "LayoutModel",
          "state": {
            "_model_module": "@jupyter-widgets/base",
            "_model_module_version": "1.2.0",
            "_model_name": "LayoutModel",
            "_view_count": null,
            "_view_module": "@jupyter-widgets/base",
            "_view_module_version": "1.2.0",
            "_view_name": "LayoutView",
            "align_content": null,
            "align_items": null,
            "align_self": null,
            "border": null,
            "bottom": null,
            "display": null,
            "flex": null,
            "flex_flow": null,
            "grid_area": null,
            "grid_auto_columns": null,
            "grid_auto_flow": null,
            "grid_auto_rows": null,
            "grid_column": null,
            "grid_gap": null,
            "grid_row": null,
            "grid_template_areas": null,
            "grid_template_columns": null,
            "grid_template_rows": null,
            "height": null,
            "justify_content": null,
            "justify_items": null,
            "left": null,
            "margin": null,
            "max_height": null,
            "max_width": null,
            "min_height": null,
            "min_width": null,
            "object_fit": null,
            "object_position": null,
            "order": null,
            "overflow": null,
            "overflow_x": null,
            "overflow_y": null,
            "padding": null,
            "right": null,
            "top": null,
            "visibility": null,
            "width": null
          }
        },
        "736424a2b76441b59ba88eb249c4386b": {
          "model_module": "@jupyter-widgets/controls",
          "model_module_version": "1.5.0",
          "model_name": "VBoxModel",
          "state": {
            "_dom_classes": [
              "widget-interact"
            ],
            "_model_module": "@jupyter-widgets/controls",
            "_model_module_version": "1.5.0",
            "_model_name": "VBoxModel",
            "_view_count": null,
            "_view_module": "@jupyter-widgets/controls",
            "_view_module_version": "1.5.0",
            "_view_name": "VBoxView",
            "box_style": "",
            "children": [
              "IPY_MODEL_3a4cb11b249b41bcb8ac19773341a6cf",
              "IPY_MODEL_14f4b25904ee43b3b6287e42bbad326f",
              "IPY_MODEL_b69c81ec5d6c46e7986ea858dead4992"
            ],
            "layout": "IPY_MODEL_b22c0dd472a5405b814214d5e667e6c2"
          }
        },
        "b22c0dd472a5405b814214d5e667e6c2": {
          "model_module": "@jupyter-widgets/base",
          "model_module_version": "1.2.0",
          "model_name": "LayoutModel",
          "state": {
            "_model_module": "@jupyter-widgets/base",
            "_model_module_version": "1.2.0",
            "_model_name": "LayoutModel",
            "_view_count": null,
            "_view_module": "@jupyter-widgets/base",
            "_view_module_version": "1.2.0",
            "_view_name": "LayoutView",
            "align_content": null,
            "align_items": null,
            "align_self": null,
            "border": null,
            "bottom": null,
            "display": null,
            "flex": null,
            "flex_flow": null,
            "grid_area": null,
            "grid_auto_columns": null,
            "grid_auto_flow": null,
            "grid_auto_rows": null,
            "grid_column": null,
            "grid_gap": null,
            "grid_row": null,
            "grid_template_areas": null,
            "grid_template_columns": null,
            "grid_template_rows": null,
            "height": null,
            "justify_content": null,
            "justify_items": null,
            "left": null,
            "margin": null,
            "max_height": null,
            "max_width": null,
            "min_height": null,
            "min_width": null,
            "object_fit": null,
            "object_position": null,
            "order": null,
            "overflow": null,
            "overflow_x": null,
            "overflow_y": null,
            "padding": null,
            "right": null,
            "top": null,
            "visibility": null,
            "width": null
          }
        },
        "b69c81ec5d6c46e7986ea858dead4992": {
          "model_module": "@jupyter-widgets/output",
          "model_module_version": "1.0.0",
          "model_name": "OutputModel",
          "state": {
            "_dom_classes": [],
            "_model_module": "@jupyter-widgets/output",
            "_model_module_version": "1.0.0",
            "_model_name": "OutputModel",
            "_view_count": null,
            "_view_module": "@jupyter-widgets/output",
            "_view_module_version": "1.0.0",
            "_view_name": "OutputView",
            "layout": "IPY_MODEL_4bc1a8fd214d4027a85f7e1a8976e7cb",
            "msg_id": "",
            "outputs": [
              {
                "name": "stderr",
                "output_type": "stream",
                "text": [
                  "/usr/local/lib/python3.7/dist-packages/sklearn/manifold/_t_sne.py:783: FutureWarning: The default initialization in TSNE will change from 'random' to 'pca' in 1.2.\n",
                  "  FutureWarning,\n",
                  "/usr/local/lib/python3.7/dist-packages/sklearn/manifold/_t_sne.py:793: FutureWarning: The default learning rate in TSNE will change from 200.0 to 'auto' in 1.2.\n",
                  "  FutureWarning,\n"
                ]
              },
              {
                "data": {
                  "image/png": "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\n",
                  "text/plain": "<Figure size 648x648 with 1 Axes>"
                },
                "metadata": {},
                "output_type": "display_data"
              }
            ]
          }
        },
        "ca47f5a745df4b7f877b63602ac0b3a6": {
          "model_module": "@jupyter-widgets/base",
          "model_module_version": "1.2.0",
          "model_name": "LayoutModel",
          "state": {
            "_model_module": "@jupyter-widgets/base",
            "_model_module_version": "1.2.0",
            "_model_name": "LayoutModel",
            "_view_count": null,
            "_view_module": "@jupyter-widgets/base",
            "_view_module_version": "1.2.0",
            "_view_name": "LayoutView",
            "align_content": null,
            "align_items": null,
            "align_self": null,
            "border": null,
            "bottom": null,
            "display": null,
            "flex": null,
            "flex_flow": null,
            "grid_area": null,
            "grid_auto_columns": null,
            "grid_auto_flow": null,
            "grid_auto_rows": null,
            "grid_column": null,
            "grid_gap": null,
            "grid_row": null,
            "grid_template_areas": null,
            "grid_template_columns": null,
            "grid_template_rows": null,
            "height": null,
            "justify_content": null,
            "justify_items": null,
            "left": null,
            "margin": null,
            "max_height": null,
            "max_width": null,
            "min_height": null,
            "min_width": null,
            "object_fit": null,
            "object_position": null,
            "order": null,
            "overflow": null,
            "overflow_x": null,
            "overflow_y": null,
            "padding": null,
            "right": null,
            "top": null,
            "visibility": null,
            "width": null
          }
        },
        "db57bf0c02d04f8faeb2a92a477cc07f": {
          "model_module": "@jupyter-widgets/base",
          "model_module_version": "1.2.0",
          "model_name": "LayoutModel",
          "state": {
            "_model_module": "@jupyter-widgets/base",
            "_model_module_version": "1.2.0",
            "_model_name": "LayoutModel",
            "_view_count": null,
            "_view_module": "@jupyter-widgets/base",
            "_view_module_version": "1.2.0",
            "_view_name": "LayoutView",
            "align_content": null,
            "align_items": null,
            "align_self": null,
            "border": null,
            "bottom": null,
            "display": null,
            "flex": null,
            "flex_flow": null,
            "grid_area": null,
            "grid_auto_columns": null,
            "grid_auto_flow": null,
            "grid_auto_rows": null,
            "grid_column": null,
            "grid_gap": null,
            "grid_row": null,
            "grid_template_areas": null,
            "grid_template_columns": null,
            "grid_template_rows": null,
            "height": null,
            "justify_content": null,
            "justify_items": null,
            "left": null,
            "margin": null,
            "max_height": null,
            "max_width": null,
            "min_height": null,
            "min_width": null,
            "object_fit": null,
            "object_position": null,
            "order": null,
            "overflow": null,
            "overflow_x": null,
            "overflow_y": null,
            "padding": null,
            "right": null,
            "top": null,
            "visibility": null,
            "width": null
          }
        },
        "fb77367ec3264c5c8a73f137846ac729": {
          "model_module": "@jupyter-widgets/controls",
          "model_module_version": "1.5.0",
          "model_name": "SliderStyleModel",
          "state": {
            "_model_module": "@jupyter-widgets/controls",
            "_model_module_version": "1.5.0",
            "_model_name": "SliderStyleModel",
            "_view_count": null,
            "_view_module": "@jupyter-widgets/base",
            "_view_module_version": "1.2.0",
            "_view_name": "StyleView",
            "description_width": "initial",
            "handle_color": null
          }
        }
      }
    }
  },
  "nbformat": 4,
  "nbformat_minor": 0
}
